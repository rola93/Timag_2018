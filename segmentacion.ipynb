{
 "cells": [
  {
   "cell_type": "code",
   "execution_count": 1,
   "metadata": {},
   "outputs": [],
   "source": [
    "import cv2\n",
    "import numpy as np\n",
    "import random\n",
    "\n",
    "seed=123\n",
    "np.random.seed(seed)\n",
    "random.seed(seed)\n",
    "\n",
    "from imageio import imread, imsave\n",
    "\n",
    "from os.path import isdir, join, isfile\n",
    "from os import listdir\n",
    "from utils.images_utils import mostrar, read_images\n",
    "from utils.image_modification import batch_RGB2LAB,batch_RGB2LAB,batch_RGB2Opponent,batch_RGB2GRAY,calcular_modulo_gradiente"
   ]
  },
  {
   "cell_type": "code",
   "execution_count": 2,
   "metadata": {},
   "outputs": [],
   "source": [
    "def read_train_data():\n",
    "    template_src_raw = 'dataset/Segmentation_Rigid_Training/Training/OP{}/Raw/img_{:02}_raw.png'\n",
    "    template_src_mask = 'dataset/Segmentation_Rigid_Training/Training/OP{}/Masks/img_{:02}_instrument.png'\n",
    "    \n",
    "    raws = []\n",
    "    masks = []\n",
    "    for op in range(1,5):\n",
    "        for img in range(1,41):\n",
    "            \n",
    "            raws.append(imread(template_src_raw.format(op,img)))\n",
    "            masks.append(imread(template_src_mask.format(op,img), as_gray=True))\n",
    "            \n",
    "    return np.array(raws), np.array(masks)\n",
    "    \n",
    "raws, masks = read_train_data()"
   ]
  },
  {
   "cell_type": "code",
   "execution_count": 3,
   "metadata": {},
   "outputs": [],
   "source": [
    "masks[masks!=0]=1"
   ]
  },
  {
   "cell_type": "code",
   "execution_count": 4,
   "metadata": {},
   "outputs": [],
   "source": [
    "n,hh,ww,c = raws.shape\n",
    "LAB = batch_RGB2LAB(raws)\n",
    "HSV = batch_RGB2LAB(raws)\n",
    "opponent = batch_RGB2Opponent(raws)\n",
    "gray = batch_RGB2GRAY(raws)\n",
    "G = calcular_modulo_gradiente(gray).reshape((n,hh,ww,1))\n",
    "gray = gray.reshape((n,hh,ww,1))\n",
    "HSV[:,:,:,1]*=255"
   ]
  },
  {
   "cell_type": "code",
   "execution_count": 5,
   "metadata": {},
   "outputs": [
    {
     "name": "stdout",
     "output_type": "stream",
     "text": [
      "(160, 480, 640, 3)\n",
      "(160, 480, 640, 3)\n",
      "(160, 480, 640, 3)\n",
      "(160, 480, 640, 3)\n",
      "(160, 480, 640, 1)\n",
      "(160, 480, 640, 1)\n"
     ]
    }
   ],
   "source": [
    "print(raws.shape)\n",
    "print(LAB.shape)\n",
    "print(HSV.shape)\n",
    "print(opponent.shape)\n",
    "print(gray.shape)\n",
    "print(G.shape)"
   ]
  },
  {
   "cell_type": "code",
   "execution_count": 6,
   "metadata": {},
   "outputs": [
    {
     "name": "stdout",
     "output_type": "stream",
     "text": [
      "(160, 480, 640, 14)\n"
     ]
    }
   ],
   "source": [
    "X = np.concatenate((raws, gray, G, HSV,LAB, opponent), axis=3)\n",
    "print(X.shape)"
   ]
  },
  {
   "cell_type": "code",
   "execution_count": 7,
   "metadata": {},
   "outputs": [],
   "source": [
    "del(LAB)\n",
    "del(HSV)\n",
    "del(opponent)\n",
    "del(gray)\n",
    "del(G)\n",
    "\n",
    "xx =  X.reshape((n*hh*ww, X.shape[-1]))\n",
    "yy =  masks.reshape((n*hh*ww,))\n",
    "del(X)\n",
    "del(masks)\n",
    "del(raws)"
   ]
  },
  {
   "cell_type": "code",
   "execution_count": 8,
   "metadata": {},
   "outputs": [],
   "source": [
    "# from sklearn.ensemble import RandomForestClassifier\n",
    "# from sklearn.pipeline import Pipeline\n",
    "# from sklearn.model_selection import GridSearchCV\n",
    "# from sklearn.feature_selection import SelectKBest, chi2\n",
    "# from sklearn.metrics import classification_report\n",
    "from sklearn.model_selection import train_test_split\n",
    "from pandas import DataFrame as df"
   ]
  },
  {
   "cell_type": "code",
   "execution_count": 9,
   "metadata": {},
   "outputs": [
    {
     "name": "stdout",
     "output_type": "stream",
     "text": [
      "(49152000, 14)\n",
      "(49152000,)\n"
     ]
    }
   ],
   "source": [
    "print(xx.shape)\n",
    "print(yy.shape)\n",
    "X_train, X_test, y_train, y_test =  train_test_split(xx, yy, test_size=0.8, random_state=123, stratify=yy)\n",
    "del(xx)\n",
    "del(yy)\n",
    "del(X_test)\n",
    "del(y_test)"
   ]
  },
  {
   "cell_type": "code",
   "execution_count": 10,
   "metadata": {},
   "outputs": [],
   "source": [
    "columns = ['Red', 'Green','Blue','gray','Gmod','H','S','V','L','A', 'B', 'Op0', 'Op1','Op2', 'label']\n",
    "data_train = df(data=np.hstack((X_train, y_train.reshape((y_train.shape[0],1)))), columns=columns);"
   ]
  },
  {
   "cell_type": "code",
   "execution_count": null,
   "metadata": {},
   "outputs": [],
   "source": [
    "from pandas.plotting import scatter_matrix\n",
    "del(columns)\n",
    "del(X_train)\n",
    "del(y_train)\n",
    "\n",
    "colors=['red','green']\n",
    "\n",
    "# make a scatter plot\n",
    "#scatter_matrix(df,figsize=[20,20],marker='x',c=df.Survived.apply(lambda x:colors[x]))\n",
    "\n",
    "\n",
    "scatter_matrix(data_train, alpha=0.2, figsize=(30, 20), diagonal='kde', c=data_train.label.apply(lambda x:colors[int(x)]));"
   ]
  },
  {
   "cell_type": "code",
   "execution_count": null,
   "metadata": {},
   "outputs": [],
   "source": [
    "import pandas_profiling\n",
    "pandas_profiling.ProfileReport(data_train)"
   ]
  }
 ],
 "metadata": {
  "kernelspec": {
   "display_name": "TImag",
   "language": "python",
   "name": "timag"
  },
  "language_info": {
   "codemirror_mode": {
    "name": "ipython",
    "version": 3
   },
   "file_extension": ".py",
   "mimetype": "text/x-python",
   "name": "python",
   "nbconvert_exporter": "python",
   "pygments_lexer": "ipython3",
   "version": "3.6.4"
  }
 },
 "nbformat": 4,
 "nbformat_minor": 2
}
